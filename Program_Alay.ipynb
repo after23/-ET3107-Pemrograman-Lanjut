{
 "cells": [
  {
   "cell_type": "code",
   "execution_count": 2,
   "metadata": {},
   "outputs": [
    {
     "name": "stdout",
     "output_type": "stream",
     "text": [
      "Enter a word:afif tri\n",
      "empty\n",
      "@F1F\n"
     ]
    }
   ],
   "source": [
    "def glosarium(huruf): #fungsi untuk memetakan huruf bisa menjadi versi alaynya\n",
    "    if (huruf == 'a'): return '@'\n",
    "    elif (huruf == 'i'): return '1'\n",
    "    elif (huruf == 'o'): return '0'\n",
    "    elif (huruf == 's'): return '$'\n",
    "    elif (huruf == 'e'): return '3'\n",
    "    else: return huruf\n",
    "\n",
    "word = input('Enter a word:') \n",
    "if len(word) > 0 and word.isalpha(): #mengecek apakah input benar2 huruf\n",
    "    temp = word.lower() #menkonversi text masukkan ke huruf kecil\n",
    "    l = len(temp)\n",
    "    new = '' #list of str kosong untuk menampung kata alay\n",
    "    for i in range(l):\n",
    "        if (i == (l - 3) and temp[(l-3):l] == 'nya'): #untuk akhiran -nya akan dijadikan .x\n",
    "            new = new + '.x'\n",
    "            break\n",
    "        elif (i % 2 == 0): #untuk huruf dengan indeks genap akan diubah sesuai fungsi glosarium\n",
    "            new = new + glosarium(temp[i])\n",
    "        elif (i % 2 == 1): #untuk huruf dengan indeks ganjil akan dijadikan huruf besar\n",
    "            new = new + temp[i].upper()\n",
    "else:\n",
    "    print('empty')\n",
    "print(new)"
   ]
  },
  {
   "cell_type": "code",
   "execution_count": null,
   "metadata": {},
   "outputs": [],
   "source": []
  },
  {
   "cell_type": "code",
   "execution_count": null,
   "metadata": {},
   "outputs": [],
   "source": []
  }
 ],
 "metadata": {
  "kernelspec": {
   "display_name": "Python 3",
   "language": "python",
   "name": "python3"
  },
  "language_info": {
   "codemirror_mode": {
    "name": "ipython",
    "version": 3
   },
   "file_extension": ".py",
   "mimetype": "text/x-python",
   "name": "python",
   "nbconvert_exporter": "python",
   "pygments_lexer": "ipython3",
   "version": "3.6.5"
  }
 },
 "nbformat": 4,
 "nbformat_minor": 2
}
