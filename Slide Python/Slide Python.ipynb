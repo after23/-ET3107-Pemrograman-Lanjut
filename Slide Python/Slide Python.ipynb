{
 "cells": [
  {
   "cell_type": "code",
   "execution_count": 4,
   "metadata": {},
   "outputs": [
    {
     "name": "stdout",
     "output_type": "stream",
     "text": [
      "Welcome to the Pig Latin Translator!\n",
      "Enter a word:yey\n",
      "yey\n"
     ]
    }
   ],
   "source": [
    "print('Welcome to the Pig Latin Translator!')\n",
    "original = input(\"Enter a word:\")\n",
    "if len(original) > 0 and original.isalpha():\n",
    "    print (original)\n",
    "else:\n",
    "    print (\"empty\")"
   ]
  },
  {
   "cell_type": "code",
   "execution_count": 5,
   "metadata": {},
   "outputs": [
    {
     "name": "stdout",
     "output_type": "stream",
     "text": [
      "Enter a word:yey\n",
      "eyyay\n"
     ]
    }
   ],
   "source": [
    "pyg = ('ay')\n",
    "original = input('Enter a word:')\n",
    "if len(original) > 0 and original.isalpha():\n",
    "    word = original.lower()\n",
    "    first = word[0]\n",
    "    new_word = word + first + pyg\n",
    "    new_word = new_word[1:len(new_word)] \n",
    "    print (new_word)\n",
    "else:\n",
    "    print ('empty')"
   ]
  },
  {
   "cell_type": "code",
   "execution_count": 9,
   "metadata": {},
   "outputs": [
    {
     "name": "stdout",
     "output_type": "stream",
     "text": [
      "With tax:  108.0\n",
      "With tip:  124.19999999999999\n"
     ]
    }
   ],
   "source": [
    "def tax(bill):\n",
    "    \"\"\"Adds 8% tax to a restaurant bill.\"\"\"\n",
    "    bill *= 1.08\n",
    "    print (\"With tax: \", bill)\n",
    "    return bill\n",
    "def tip(bill):\n",
    "    \"\"\"Adds 15% tip to a restaurant bill.\"\"\"\n",
    "    bill *= 1.15\n",
    "    print (\"With tip: \", bill)\n",
    "    return bill\n",
    "meal_cost = 100\n",
    "meal_with_tax = tax(meal_cost)\n",
    "meal_with_tip = tip(meal_with_tax)"
   ]
  },
  {
   "cell_type": "code",
   "execution_count": 10,
   "metadata": {},
   "outputs": [
    {
     "name": "stdout",
     "output_type": "stream",
     "text": [
      "5.0\n",
      "5.0\n",
      "5.0\n",
      "['__doc__', '__loader__', '__name__', '__package__', '__spec__', 'acos', 'acosh', 'asin', 'asinh', 'atan', 'atan2', 'atanh', 'ceil', 'copysign', 'cos', 'cosh', 'degrees', 'e', 'erf', 'erfc', 'exp', 'expm1', 'fabs', 'factorial', 'floor', 'fmod', 'frexp', 'fsum', 'gamma', 'gcd', 'hypot', 'inf', 'isclose', 'isfinite', 'isinf', 'isnan', 'ldexp', 'lgamma', 'log', 'log10', 'log1p', 'log2', 'modf', 'nan', 'pi', 'pow', 'radians', 'sin', 'sinh', 'sqrt', 'tan', 'tanh', 'tau', 'trunc']\n"
     ]
    },
    {
     "data": {
      "text/plain": [
       "\"\\n['__doc__', '__name__', '__package__', 'acos', 'acosh', 'asin', 'asinh', 'atan', 'atan2', 'atanh', 'ceil', 'copysign', 'cos', 'cosh', 'degrees', 'e', 'erf', 'erfc', 'exp', 'expm1', 'fabs', 'factorial', 'floor', 'fmod', 'frexp', 'fsum', 'gamma', 'hypot', 'isinf', 'isnan', 'ldexp', 'lgamma', 'log', 'log10', 'log1p', 'modf', 'pi', 'pow', 'radians', 'sin', 'sinh', 'sqrt', 'tan', 'tanh', 'trunc']\\n\""
      ]
     },
     "execution_count": 10,
     "metadata": {},
     "output_type": "execute_result"
    }
   ],
   "source": [
    "# 1\n",
    "import math\n",
    "print (math.sqrt(25))\n",
    "# 2\n",
    "from math import sqrt\n",
    "print (sqrt(25))\n",
    "from math import *\n",
    "print (sqrt(25))\n",
    "# 3\n",
    "import math            \n",
    "everything = dir(math) # Sets everything to a list of things from math\n",
    "print (everything)       # Prints 'em all!\n",
    "\"\"\"\n",
    "['__doc__', '__name__', '__package__', 'acos', 'acosh', 'asin', 'asinh', 'atan', 'atan2', 'atanh', 'ceil', 'copysign', 'cos', 'cosh', 'degrees', 'e', 'erf', 'erfc', 'exp', 'expm1', 'fabs', 'factorial', 'floor', 'fmod', 'frexp', 'fsum', 'gamma', 'hypot', 'isinf', 'isnan', 'ldexp', 'lgamma', 'log', 'log10', 'log1p', 'modf', 'pi', 'pow', 'radians', 'sin', 'sinh', 'sqrt', 'tan', 'tanh', 'trunc']\n",
    "\"\"\""
   ]
  },
  {
   "cell_type": "code",
   "execution_count": 12,
   "metadata": {},
   "outputs": [
    {
     "name": "stdout",
     "output_type": "stream",
     "text": [
      "1955\n"
     ]
    }
   ],
   "source": [
    "def hotel_cost(nights): return 140*nights\n",
    "def plane_ride_cost(city):\n",
    "    if city==\"Charlotte\": return 183\n",
    "    elif city==\"Tampa\": return 220\n",
    "    elif city==\"Pittsburgh\": return 222\n",
    "    elif city==\"Los Angeles\": return 475\n",
    "def rental_car_cost(days):\n",
    "    costperday = 40\n",
    "    if days >= 7: total = days * costperday - 50\n",
    "    elif days >=3: total = days * costperday - 20\n",
    "    else: total = days * costperday\n",
    "    return total\n",
    "def trip_cost(city,days,spending_money):\n",
    "    return rental_car_cost(days)+hotel_cost(days)+plane_ride_cost(city)+spending_money\n",
    "print(trip_cost(\"Los Angeles\",5,600))"
   ]
  },
  {
   "cell_type": "code",
   "execution_count": 14,
   "metadata": {},
   "outputs": [],
   "source": [
    "suitcase = [\"sunglasses\", \"hat\", \"passport\", \"laptop\", \"suit\", \"shoes\"]\n",
    "first  = suitcase[0:2]  # The first and second items (index zero and one)\n",
    "middle = suitcase[2:4]  # Third and fourth items (index two and three)\n",
    "last   = suitcase[4:6]  # The last two items (index four and five)\n",
    "# < 6 bukan <= 6\n",
    "# We start at the index before the colon and continue up to but not including the index after the colon.\n",
    "# ---\n",
    "animals = \"catdogfrog\"\n",
    "cat  = animals[:3]   # The first three characters of animals\n",
    "dog  = animals[3:6]   # The fourth through sixth characters\n",
    "frog = animals[6:]   # From the seventh character to the end\n",
    "# tanpa start/end"
   ]
  },
  {
   "cell_type": "code",
   "execution_count": 18,
   "metadata": {},
   "outputs": [
    {
     "name": "stdout",
     "output_type": "stream",
     "text": [
      "14.5\n",
      "There are 4 items on the menu.\n",
      "{'Chicken Alfredo': 14.5, 'karedok': 2.2, 'lotek': 2.3, 'rujak': 3.3}\n"
     ]
    }
   ],
   "source": [
    "# ---\n",
    "menu = {} # Empty dictionary\n",
    "menu['Chicken Alfredo'] = 14.50 # Adding new key-value pair\n",
    "print (menu['Chicken Alfredo'])\n",
    "# append\n",
    "menu['karedok'] = 2.2\n",
    "menu['lotek'] = 2.3\n",
    "menu['rujak'] = 3.3\n",
    "print (\"There are \" + str(len(menu)) + \" items on the menu.\")\n",
    "print (menu)\n"
   ]
  },
  {
   "cell_type": "code",
   "execution_count": 20,
   "metadata": {},
   "outputs": [
    {
     "name": "stdout",
     "output_type": "stream",
     "text": [
      "{'Atlantic Puffin': 'Arctic Exhibit', 'Rockhopper Penguin': 'Arctic Exhibit'}\n"
     ]
    }
   ],
   "source": [
    "# key - animal_name : value - location \n",
    "zoo_animals = { 'Unicorn' : 'Cotton Candy House',\n",
    "                'Sloth' : 'Rainforest Exhibit',\n",
    "                'Bengal Tiger' : 'Jungle House',\n",
    "                'Atlantic Puffin' : 'Arctic Exhibit',\n",
    "                'Rockhopper Penguin' : 'Arctic Exhibit'}\n",
    "# Removing the 'Unicorn' entry. (Unicorns are incredibly expensive.)\n",
    "del zoo_animals['Unicorn']\n",
    "del zoo_animals['Sloth']\n",
    "del zoo_animals['Bengal Tiger']\n",
    "#zoo_animals['Rockhopper Penguin']='Arctic Exhibit Mod'\n",
    "print (zoo_animals)"
   ]
  },
  {
   "cell_type": "code",
   "execution_count": 22,
   "metadata": {},
   "outputs": [
    {
     "name": "stdout",
     "output_type": "stream",
     "text": [
      "['xylophone', 'tent', 'bread loaf']\n"
     ]
    }
   ],
   "source": [
    "# remove\n",
    "backpack = ['xylophone', 'dagger', 'tent', 'bread loaf']\n",
    "backpack.remove(\"dagger\")\n",
    "# ---\n",
    "inventory = {\n",
    "     'gold' : 500,\n",
    "     'pouch' : ['flint', 'twine', 'gemstone'], # Assigned a new list to 'pouch' key\n",
    "     'backpack' : ['xylophone','dagger', 'bedroll','bread loaf']\n",
    "}\n",
    "# Adding a key 'burlap bag' and assigning a list to it\n",
    "inventory['burlap bag'] = ['apple', 'small ruby', 'three-toed sloth']\n",
    "# Sorting the list found under the key 'pouch'\n",
    "inventory['pouch'].sort() \n",
    "inventory['pocket']=['seashell','strange berry','lint']\n",
    "inventory['backpack'].sort()\n",
    "inventory['backpack'].remove('dagger')\n",
    "inventory['gold'] += 50\n",
    "\n",
    "print(backpack)"
   ]
  },
  {
   "cell_type": "code",
   "execution_count": 29,
   "metadata": {},
   "outputs": [
    {
     "name": "stdout",
     "output_type": "stream",
     "text": [
      "banana\n",
      "price: 4\n",
      "stock: 6\n",
      "apple\n",
      "price: 2\n",
      "stock: 0\n",
      "orange\n",
      "price: 1.5\n",
      "stock: 32\n",
      "pear\n",
      "price: 3\n",
      "stock: 15\n"
     ]
    }
   ],
   "source": [
    "prices = {\n",
    "     \"banana\": 4,\n",
    "\"apple\": 2,\n",
    "  \"orange\": 1.5,\n",
    "\"pear\": 3\n",
    "    }\n",
    "stock = {\n",
    "  \"banana\": 6,\n",
    "  \"apple\": 0,\n",
    "  \"orange\": 32,\n",
    "  \"pear\": 15    \n",
    "}\n",
    "for key in prices:\n",
    "    print (key)\n",
    "    print (\"price:\", prices[key])\n",
    "    print (\"stock:\", stock[key])"
   ]
  },
  {
   "cell_type": "code",
   "execution_count": 31,
   "metadata": {},
   "outputs": [
    {
     "name": "stdout",
     "output_type": "stream",
     "text": [
      "5.5\n"
     ]
    }
   ],
   "source": [
    "# take 3\n",
    "shopping_list = [\"banana\", \"orange\", \"apple\"]\n",
    "stock = {\n",
    "    \"banana\": 6,   \"apple\": 0,\n",
    "    \"orange\": 32,  \"pear\": 15\n",
    "}\n",
    "prices = {\n",
    "    \"banana\": 4,   \"apple\": 2,\n",
    "    \"orange\": 1.5, \"pear\": 3\n",
    "}\n",
    "def compute_bill(food):\n",
    "    total = 0\n",
    "    for item in food:\n",
    "        if stock[item] > 0:\n",
    "          total += prices[item]\n",
    "          stock[item] -= 1\n",
    "    return total\n",
    "\n",
    "a = compute_bill(shopping_list)\n",
    "\n",
    "print(a)"
   ]
  },
  {
   "cell_type": "code",
   "execution_count": 32,
   "metadata": {},
   "outputs": [],
   "source": [
    "lloyd = { \"name\": \"Lloyd\", \"homework\": [90.0, 97.0, 75.0, 92.0],\n",
    "          \"quizzes\": [88.0, 40.0, 94.0], \"tests\": [75.0, 90.0] }\n",
    "alice = { \"name\": \"Alice\", \"homework\": [100.0, 92.0, 98.0, 100.0],\n",
    "          \"quizzes\": [82.0, 83.0, 91.0], \"tests\": [89.0, 97.0] }\n",
    "tyler = { \"name\": \"Tyler\", \"homework\": [0.0, 87.0, 75.0, 22.0],\n",
    "          \"quizzes\": [0.0, 75.0, 78.0], \"tests\": [100.0, 100.0] }\n",
    "# ---\n",
    "def average(numbers):\n",
    "    total = sum(numbers)\n",
    "    total = float(total)\n",
    "    return total/len(numbers)\n",
    "def get_average(student):\n",
    "    homework = average(student['homework'])\n",
    "    quizzes = average(student['quizzes'])\n",
    "    tests = average(student['tests'])\n",
    "    return 0.1*homework + 0.3*quizzes + 0.6*tests\n",
    "def get_letter_grade(score):\n",
    "    if score >= 90: return \"A\"\n",
    "    elif score >= 80: return \"B\"\n",
    "    elif score >= 70: return \"C\"\n",
    "    elif score >=60: return \"D\"\n",
    "    else: return \"F\"\n",
    "def get_class_average(students):\n",
    "    results = []\n",
    "    for student in students: results.append(get_average(student))\n",
    "    return average(results)"
   ]
  },
  {
   "cell_type": "code",
   "execution_count": 2,
   "metadata": {},
   "outputs": [
    {
     "name": "stdout",
     "output_type": "stream",
     "text": [
      "Your choices are:\n",
      "1 pizza\n",
      "2 pasta\n",
      "3 salad\n",
      "4 nachos\n",
      "3\n",
      "9\n",
      "17\n",
      "15\n",
      "30\n"
     ]
    }
   ],
   "source": [
    "choices = ['pizza', 'pasta', 'salad', 'nachos']\n",
    "print ('Your choices are:')\n",
    "for index, item in enumerate(choices):\n",
    "    print(index+1, item)\n",
    "# ---\n",
    "# 6 \n",
    "list_a = [3, 9, 17, 15, 19]\n",
    "list_b = [2, 4, 8, 10, 30, 40, 50, 60, 70, 80, 90]\n",
    "for a, b in zip(list_a, list_b):\n",
    "    # Add your code here!\n",
    "    if a > b:\n",
    "        print (a)\n",
    "    else:\n",
    "        print (b)\n",
    "# zip will create pairs of elements when passed two lists, \n",
    "# and will stop at the end of the shorter list.\n",
    "# zip can handle three or more lists as well!"
   ]
  },
  {
   "cell_type": "code",
   "execution_count": 5,
   "metadata": {},
   "outputs": [
    {
     "name": "stdout",
     "output_type": "stream",
     "text": [
      "You have...\n",
      "A banana\n",
      "A apple\n",
      "A orange\n",
      "A tomato is not a fruit!\n"
     ]
    }
   ],
   "source": [
    "fruits = ['banana', 'apple', 'orange', 'tomato', 'pear', 'grape']\n",
    "print ('You have...')\n",
    "for f in fruits:\n",
    "    if f == 'tomato':\n",
    "        print ('A tomato is not a fruit!') # (It actually is.)\n",
    "        break\n",
    "    print ('A', f)\n",
    "else:\n",
    "    print ('A fine selection of fruits!')\n",
    "# spt else while, kl break tidak dirun, kl exit normal yes\n",
    "# ---"
   ]
  },
  {
   "cell_type": "code",
   "execution_count": 8,
   "metadata": {},
   "outputs": [
    {
     "name": "stdout",
     "output_type": "stream",
     "text": [
      "You have...\n",
      "A banana\n",
      "A apple\n",
      "A orange\n",
      "A tomato\n",
      "A pear\n",
      "A grape\n",
      "A fine selection of fruits!\n",
      "a\n",
      "b\n",
      "c\n",
      "completed!\n"
     ]
    }
   ],
   "source": [
    "fruits = ['banana', 'apple', 'orange', 'tomato', 'pear', 'grape']\n",
    "print ('You have...')\n",
    "for f in fruits:\n",
    "    if f == 'tomato1': # kl match, executed; else never\n",
    "        print ('A tomato is not a fruit!') \n",
    "        break\n",
    "    print ('A', f)\n",
    "else:\n",
    "    print ('A fine selection of fruits!')\n",
    "# ---\n",
    "# 9\n",
    "thelist = ['a','b','c']\n",
    "for i in thelist:\n",
    "    print (i)\n",
    "else:\n",
    "    print ('completed!')"
   ]
  },
  {
   "cell_type": "code",
   "execution_count": 11,
   "metadata": {},
   "outputs": [
    {
     "name": "stdout",
     "output_type": "stream",
     "text": [
      "15\n",
      "24\n"
     ]
    }
   ],
   "source": [
    "def digit_sum(n):\n",
    "    dsum = 0\n",
    "    n_str = str(n)\n",
    "    for c in n_str: dsum += int(c)\n",
    "    return dsum\n",
    "print (digit_sum(12345))\n",
    "# ---\n",
    "# 4 rekursif\n",
    "def factorial(x):\n",
    "    if x==1: return 1\n",
    "    else: return x*factorial(x-1)\n",
    "print (factorial(4))"
   ]
  },
  {
   "cell_type": "code",
   "execution_count": 12,
   "metadata": {},
   "outputs": [
    {
     "name": "stdout",
     "output_type": "stream",
     "text": [
      "False\n",
      "True\n",
      "fed@cba\n"
     ]
    }
   ],
   "source": [
    "def is_prime(x):\n",
    "    if x < 2 : return False\n",
    "    for n in range(x-2):\n",
    "        if x % (n+2) == 0: return False\n",
    "    return True\n",
    "print (is_prime(9))\n",
    "print (is_prime(11))\n",
    "# ---\n",
    "# 6\n",
    "def reverse(text):\n",
    "    varlength = len(text)\n",
    "    textrev = \"\"\n",
    "    for i in range(varlength): textrev += text[varlength-1-i]\n",
    "    return textrev\n",
    "print (reverse('abc@def'))"
   ]
  },
  {
   "cell_type": "code",
   "execution_count": 13,
   "metadata": {},
   "outputs": [
    {
     "name": "stdout",
     "output_type": "stream",
     "text": [
      "[1, 2]\n"
     ]
    }
   ],
   "source": [
    "def remove_duplicates(varlist):\n",
    "    newlist = []\n",
    "    for var in varlist:\n",
    "        if var not in newlist: newlist.append(var)\n",
    "    return newlist\n",
    "print (remove_duplicates([1,1,2,2]))"
   ]
  },
  {
   "cell_type": "code",
   "execution_count": 14,
   "metadata": {},
   "outputs": [
    {
     "name": "stdout",
     "output_type": "stream",
     "text": [
      "[0, 2, 4, 6, 8, 10, 12, 14, 16, 18, 20, 22, 24, 26, 28, 30, 32, 34, 36, 38, 40, 42, 44, 46, 48, 50]\n",
      "[4, 16, 36, 64, 100]\n"
     ]
    }
   ],
   "source": [
    "evens_to_50 = [i for i in range(51) if i % 2 == 0]\n",
    "print (evens_to_50)\n",
    "# [0, 2, 4, 6, 8, 10, 12, 14, 16, 18, 20, 22, 24, 26, 28, 30, 32, 34, 36, 38, 40, 42, 44, 46, 48, 50]\n",
    "# ---------------------------------------------------------\n",
    "# 2\n",
    "new_list = [x for x in range(1,6)]                       # => [1, 2, 3, 4, 5]\n",
    "doubles = [x*2 for x in range(1,6)]                      # => [2, 4, 6, 8, 10]\n",
    "doubles_by_3 = [x*2 for x in range(1,6) if (x*2)%3 == 0] # => [6]\n",
    "# ---------------------------------------------------------\n",
    "# 3\n",
    "doubles_by_3 = [x*2 for x in range(1,6) if (x*2) % 3 == 0]\n",
    "even_squares = [x**2 for x in range(1,12) if x%2 == 0]\n",
    "print (even_squares) # [4, 16, 36, 64, 100]"
   ]
  },
  {
   "cell_type": "code",
   "execution_count": 18,
   "metadata": {},
   "outputs": [
    {
     "name": "stdout",
     "output_type": "stream",
     "text": [
      "['E', 'D', 'C', 'B', 'A']\n",
      "10\n",
      "9\n",
      "8\n",
      "7\n",
      "6\n",
      "5\n",
      "4\n",
      "3\n",
      "2\n",
      "1\n",
      "range(100, -1, -10)\n",
      "range(1, 22, 2)\n",
      "8\n",
      "9\n",
      "10\n",
      "11\n",
      "12\n",
      "13\n",
      "14\n"
     ]
    }
   ],
   "source": [
    "letters = ['A', 'B', 'C', 'D', 'E']\n",
    "print (letters[::-1]) #['E', 'D', 'C', 'B', 'A'] right to left\n",
    "# ---------------------------------------------------------\n",
    "# 10\n",
    "my_list = range(1, 11)\n",
    "backwards = my_list[::-1]\n",
    "for i in backwards:\n",
    "    print(i)\n",
    "# ---------------------------------------------------------\n",
    "# 11\n",
    "to_one_hundred = range(101)\n",
    "backwards_by_tens = to_one_hundred[::-10]\n",
    "print (backwards_by_tens) #[100, 90, 80, 70, 60, 50, 40, 30, 20, 10, 0]\n",
    "# ---------------------------------------------------------\n",
    "# 12\n",
    "to_21 = range(1,22)\n",
    "odds = to_21[::2]\n",
    "print(odds)\n",
    "middle_third = to_21[7:14]\n",
    "for i in middle_third:\n",
    "    print(i)"
   ]
  },
  {
   "cell_type": "code",
   "execution_count": 23,
   "metadata": {},
   "outputs": [
    {
     "name": "stdout",
     "output_type": "stream",
     "text": [
      "(<function <lambda> at 0x0000019DC1BD5AE8>, [1, 2, 3, 4, 5, 6, 7, 8, 9, 10])\n"
     ]
    }
   ],
   "source": [
    "my_list = [1,2,3,4,5,6,7,8,9,10]\n",
    "a = (lambda x: x % 3 == 0, my_list)\n",
    "print(a)"
   ]
  },
  {
   "cell_type": "code",
   "execution_count": 24,
   "metadata": {},
   "outputs": [
    {
     "name": "stdout",
     "output_type": "stream",
     "text": [
      "<filter object at 0x0000019DC1BE5278>\n",
      "<filter object at 0x0000019DC1BE5278>\n",
      "<filter object at 0x0000019DC1BE55F8>\n"
     ]
    }
   ],
   "source": [
    "languages = [\"HTML\", \"JavaScript\", \"Python\", \"Ruby\"]\n",
    "print (filter(lambda x: x==\"Python\", languages)) # ['Python']\n",
    "# ---------------------------------------------------------\n",
    "cubes = [x**3 for x in range(1, 11)]\n",
    "print (filter(lambda x: x % 3 == 0, cubes))\n",
    "# ---------------------------------------------------------\n",
    "squares = [x**2 for x in range(1,11)]\n",
    "print (filter(lambda x: x > 30 and x <=70, squares)) # [36, 49, 64]"
   ]
  },
  {
   "cell_type": "code",
   "execution_count": 26,
   "metadata": {},
   "outputs": [
    {
     "name": "stdout",
     "output_type": "stream",
     "text": [
      "[0, 1, 4, 9, 16]\n",
      "[3, 5, 6, 9, 10, 12, 15]\n"
     ]
    }
   ],
   "source": [
    "squares = [x**2 for x in range(5)]\n",
    "threes_and_fives = [x for x in range(1,16) if x%3 == 0 or x%5 ==0]\n",
    "print(squares)\n",
    "print(threes_and_fives)"
   ]
  },
  {
   "cell_type": "code",
   "execution_count": 28,
   "metadata": {},
   "outputs": [
    {
     "name": "stdout",
     "output_type": "stream",
     "text": [
      "IX XaXmX XtXhXeX XsXeXcXrXeXtX XmXeXsXsXaXgXeX!\n",
      "I am the secret message!\n"
     ]
    }
   ],
   "source": [
    "garbled = \"!XeXgXaXsXsXeXmX XtXeXrXcXeXsX XeXhXtX XmXaX XI\"\n",
    "rev_garbled = garbled[::-1]\n",
    "message = rev_garbled[::2]\n",
    "print(rev_garbled)\n",
    "print (message)"
   ]
  },
  {
   "cell_type": "code",
   "execution_count": 29,
   "metadata": {},
   "outputs": [
    {
     "name": "stdout",
     "output_type": "stream",
     "text": [
      "0\n",
      "10\n",
      "0\n",
      "13\n",
      "38\n",
      "-89\n",
      "1\n",
      "2\n",
      "3\n",
      "4\n",
      "5\n",
      "6\n",
      "7\n"
     ]
    }
   ],
   "source": [
    "print (5 >> 4)  # Right Shift 101 -> 0\n",
    "print (5 << 1)  # Left Shift 101 -> 1010\n",
    "print (8 & 5)   # Bitwise AND 1000 & 0101 -> 0\n",
    "print (9 | 4 )  # Bitwise OR\n",
    "print (12 ^ 42) # Bitwise XOR\n",
    "print (~88     )# Bitwise NOT\n",
    "# 0 | 10 | 0 | 13 | 38 | -89\n",
    "# ---------------------------------------------------------\n",
    "# hasil operasi print -> desimal\n",
    "print (0b1,)    #1\n",
    "print (0b10,)   #2\n",
    "print (0b11, )  #3\n",
    "print (0b100, ) #4\n",
    "print (0b101,  )#5\n",
    "print (0b110,  )#6\n",
    "print (0b111   )#7"
   ]
  },
  {
   "cell_type": "code",
   "execution_count": 31,
   "metadata": {},
   "outputs": [
    {
     "name": "stdout",
     "output_type": "stream",
     "text": [
      "I'm a yellow lemon and I taste sour.\n",
      "Yep! I'm edible.\n"
     ]
    }
   ],
   "source": [
    "class Fruit(object):\n",
    "    \"\"\"A class that makes various tasty fruits.\"\"\"\n",
    "    def __init__(self, name, color, flavor, poisonous):\n",
    "        self.name = name\n",
    "        self.color = color\n",
    "        self.flavor = flavor\n",
    "        self.poisonous = poisonous\n",
    "    def description(self):\n",
    "        print (\"I'm a %s %s and I taste %s.\" % (self.color, self.name, self.flavor))\n",
    "    def is_edible(self):\n",
    "        if not self.poisonous: print (\"Yep! I'm edible.\")\n",
    "        else: print (\"Don't eat me! I am super poisonous.\")\n",
    "# ---------------------------------------------------------\n",
    "lemon = Fruit(\"lemon\", \"yellow\", \"sour\", False)\n",
    "lemon.description()\n",
    "lemon.is_edible()"
   ]
  },
  {
   "cell_type": "code",
   "execution_count": 32,
   "metadata": {},
   "outputs": [
    {
     "name": "stdout",
     "output_type": "stream",
     "text": [
      "Jeffrey\n",
      "4\n"
     ]
    }
   ],
   "source": [
    "class Animal(object): pass\n",
    "class Animal(object):\n",
    "    def __init__(self): pass\n",
    "class Animal(object):\n",
    "    def __init__(self,name): self.name = name\n",
    "zebra = Animal(\"Jeffrey\")\n",
    "print (zebra.name)\n",
    "# ---------------------------------------------------------\n",
    "class Square(object):\n",
    "  def __init__(self): self.sides = 4\n",
    "my_shape = Square()\n",
    "print (my_shape.sides)"
   ]
  },
  {
   "cell_type": "code",
   "execution_count": 33,
   "metadata": {},
   "outputs": [
    {
     "name": "stdout",
     "output_type": "stream",
     "text": [
      "Jeffrey 2 True\n",
      "Bruce 1 True\n",
      "Chad 7 True\n"
     ]
    }
   ],
   "source": [
    "class Animal(object):\n",
    "    \"\"\"Makes cute animals.\"\"\"\n",
    "    is_alive = True\n",
    "    def __init__(self, name, age):\n",
    "        self.name = name\n",
    "        self.age = age\n",
    "zebra = Animal(\"Jeffrey\", 2)\n",
    "giraffe = Animal(\"Bruce\", 1)\n",
    "panda = Animal(\"Chad\", 7)\n",
    "print (zebra.name, zebra.age, zebra.is_alive)        #Jeffrey 2 True\n",
    "print (giraffe.name, giraffe.age, giraffe.is_alive)  #Bruce 1 True\n",
    "print (panda.name, panda.age, panda.is_alive)  "
   ]
  },
  {
   "cell_type": "code",
   "execution_count": 34,
   "metadata": {},
   "outputs": [
    {
     "name": "stdout",
     "output_type": "stream",
     "text": [
      "Nil\n",
      "5\n",
      "True\n",
      "False\n",
      "True\n"
     ]
    }
   ],
   "source": [
    "class Animal(object):\n",
    "    is_alive = True\n",
    "    def __init__(self, name, age):\n",
    "        self.name = name\n",
    "        self.age = age\n",
    "    def description(self):\n",
    "        print (self.name)\n",
    "        print (self.age)\n",
    "hippo = Animal(\"Nil\",5)\n",
    "hippo.description()\n",
    "# ---------------------------------------------------------\n",
    "hippo = Animal(\"Jake\", 12)\n",
    "cat = Animal(\"Boots\", 3)\n",
    "print (hippo.is_alive)    # True\n",
    "hippo.is_alive = False\n",
    "print (hippo.is_alive)    # False\n",
    "print (cat.is_alive)      # True"
   ]
  },
  {
   "cell_type": "code",
   "execution_count": 35,
   "metadata": {},
   "outputs": [],
   "source": [
    "class ShoppingCart(object):\n",
    "    \"\"\"Creates shopping cart objects\n",
    "    for users of our fine website.\"\"\"\n",
    "    items_in_cart = {}\n",
    "    def __init__(self, customer_name):\n",
    "        self.customer_name = customer_name\n",
    "    def add_item(self, product, price):\n",
    "        \"\"\"Add product to the cart.\"\"\"\n",
    "        if not product in self.items_in_cart:\n",
    "            self.items_in_cart[product] = price\n",
    "            print (product + \" added.\")\n",
    "        else:\n",
    "            print (product + \" is already in the cart.\")\n",
    "    def remove_item(self, product):\n",
    "        \"\"\"Remove product from the cart.\"\"\"\n",
    "        if product in self.items_in_cart:\n",
    "            del self.items_in_cart[product]\n",
    "            print (product + \" removed.\")\n",
    "        else:\n",
    "            print (product + \" is not in the cart.\")"
   ]
  },
  {
   "cell_type": "code",
   "execution_count": 36,
   "metadata": {},
   "outputs": [
    {
     "name": "stdout",
     "output_type": "stream",
     "text": [
      "Obeng added.\n",
      "Obeng is already in the cart.\n",
      "{'Obeng': 2000}\n",
      "Sapu added.\n",
      "Sapu is already in the cart.\n",
      "{'Obeng': 2000, 'Sapu': 2000}\n",
      "Sapu is already in the cart.\n",
      "{'Obeng': 2000, 'Sapu': 2000}\n",
      "{'Buku': 3000}\n",
      "{'Obeng': 2000, 'Sapu': 2000}\n",
      "Sapu added.\n",
      "{'Buku': 3000, 'Sapu': 1000}\n",
      "Dodol added.\n",
      "{'Obeng': 2000, 'Sapu': 2000, 'Dodol': 10000}\n",
      "{'Buku': 3000, 'Sapu': 1000}\n"
     ]
    }
   ],
   "source": [
    "my_cart1 = ShoppingCart(\"Otong\")\n",
    "my_cart2 = ShoppingCart(\"Udjang\")\n",
    "my_cart1.add_item(\"Obeng\",2000)  # Obeng added.\n",
    "my_cart1.add_item(\"Obeng\",1000)  # Obeng is already in the cart.\n",
    "print (my_cart1.items_in_cart)     # {'Obeng': 2000} \n",
    "my_cart2.add_item(\"Sapu\",2000)  # Sapu added.\n",
    "my_cart2.add_item(\"Sapu\",1000)  # Sapu is already in the cart.\n",
    "print (my_cart2.items_in_cart)    # {'Obeng': 2000, 'Sapu': 2000} \n",
    "my_cart1.add_item(\"Sapu\",5000)  # Sapu is already in the cart.\n",
    "print (my_cart1.items_in_cart)    # {'Obeng': 2000, 'Sapu': 2000}\n",
    "my_cart2.items_in_cart = {'Buku': 3000}\n",
    "print (my_cart2.items_in_cart)    # {'Buku': 3000}\n",
    "print (my_cart1.items_in_cart)    # {'Obeng': 2000, 'Sapu': 2000}\n",
    "my_cart2.add_item(\"Sapu\",1000)  # Sapu added.\n",
    "print (my_cart2.items_in_cart)    # {'Sapu': 1000, 'Buku': 3000}\n",
    "my_cart1.add_item(\"Dodol\",10000) # Dodol added.\n",
    "print (my_cart1.items_in_cart)     # {'Obeng': 2000, 'Sapu': 2000, 'Dodol': 10000}\n",
    "print (my_cart2.items_in_cart)     # {'Sapu': 1000, 'Buku': 3000}"
   ]
  },
  {
   "cell_type": "code",
   "execution_count": 37,
   "metadata": {},
   "outputs": [
    {
     "name": "stdout",
     "output_type": "stream",
     "text": [
      "I'm a string that stands in for the contents of your shopping cart!\n",
      "I'm a string that stands in for your order history!\n"
     ]
    }
   ],
   "source": [
    "class Customer(object):\n",
    "    \"\"\"Produces objects that represent customers.\"\"\"\n",
    "    def __init__(self, customer_id):\n",
    "        self.customer_id = customer_id\n",
    "    def display_cart(self):\n",
    "        print (\"I'm a string that stands in for the contents of your shopping cart!\")\n",
    "class ReturningCustomer(Customer):\n",
    "    \"\"\"For customers of the repeat variety.\"\"\"\n",
    "    def display_order_history(self):\n",
    "        print (\"I'm a string that stands in for your order history!\")\n",
    "monty_python = ReturningCustomer(\"ID: 12345\")\n",
    "monty_python.display_cart()           # Customer.display_cart\n",
    "monty_python.display_order_history()  # ReturningCustomer"
   ]
  },
  {
   "cell_type": "code",
   "execution_count": 39,
   "metadata": {},
   "outputs": [
    {
     "name": "stdout",
     "output_type": "stream",
     "text": [
      "1\n"
     ]
    },
    {
     "ename": "AttributeError",
     "evalue": "'Triangle' object has no attribute 'number_of_sides'",
     "output_type": "error",
     "traceback": [
      "\u001b[1;31m---------------------------------------------------------------------------\u001b[0m",
      "\u001b[1;31mAttributeError\u001b[0m                            Traceback (most recent call last)",
      "\u001b[1;32m<ipython-input-39-b9bebd9c4010>\u001b[0m in \u001b[0;36m<module>\u001b[1;34m()\u001b[0m\n\u001b[0;32m     11\u001b[0m \u001b[0msegitiga2\u001b[0m \u001b[1;33m=\u001b[0m \u001b[0mTriangle\u001b[0m\u001b[1;33m(\u001b[0m\u001b[1;36m1\u001b[0m\u001b[1;33m,\u001b[0m\u001b[1;36m2\u001b[0m\u001b[1;33m,\u001b[0m\u001b[1;36m3\u001b[0m\u001b[1;33m)\u001b[0m\u001b[1;33m\u001b[0m\u001b[0m\n\u001b[0;32m     12\u001b[0m \u001b[0mprint\u001b[0m \u001b[1;33m(\u001b[0m\u001b[0msegitiga2\u001b[0m\u001b[1;33m.\u001b[0m\u001b[0mside1\u001b[0m\u001b[1;33m)\u001b[0m\u001b[1;33m\u001b[0m\u001b[0m\n\u001b[1;32m---> 13\u001b[1;33m \u001b[0mprint\u001b[0m \u001b[1;33m(\u001b[0m\u001b[0msegitiga2\u001b[0m\u001b[1;33m.\u001b[0m\u001b[0mnumber_of_sides\u001b[0m\u001b[1;33m)\u001b[0m\u001b[1;33m\u001b[0m\u001b[0m\n\u001b[0m",
      "\u001b[1;31mAttributeError\u001b[0m: 'Triangle' object has no attribute 'number_of_sides'"
     ]
    }
   ],
   "source": [
    "class Shape(object):\n",
    "    \"\"\"Makes shapes!\"\"\"\n",
    "    def __init__(self, number_of_sides):\n",
    "        self.number_of_sides = number_of_sides\n",
    "class Triangle(Shape):\n",
    "    def __init__(self,side1,side2,side3):\n",
    "        self.side1 = side1\n",
    "        self.side2 = side2\n",
    "        self.side3 = side3\n",
    "# Override __init__\n",
    "segitiga2 = Triangle(1,2,3)\n",
    "print (segitiga2.side1)\n",
    "#print (segitiga2.number_of_sides) "
   ]
  },
  {
   "cell_type": "code",
   "execution_count": 40,
   "metadata": {},
   "outputs": [
    {
     "name": "stdout",
     "output_type": "stream",
     "text": [
      "Hello, Emily\n",
      "Get back to work, Steve!\n"
     ]
    }
   ],
   "source": [
    "class Employee(object):\n",
    "    def __init__(self, name):\n",
    "        self.name = name\n",
    "    def greet(self, other):\n",
    "        print (\"Hello, %s\" % other.name)\n",
    "class CEO(Employee):\n",
    "    def greet(self, other):\n",
    "        print (\"Get back to work, %s!\" % other.name)\n",
    "ceo = CEO(\"Emily\")\n",
    "emp = Employee(\"Steve\")\n",
    "emp.greet(ceo) # Hello, Emily\n",
    "ceo.greet(emp) # Get back to work, Steve!"
   ]
  },
  {
   "cell_type": "code",
   "execution_count": 41,
   "metadata": {},
   "outputs": [
    {
     "name": "stdout",
     "output_type": "stream",
     "text": [
      "200.0\n"
     ]
    }
   ],
   "source": [
    "class Employee(object):\n",
    "    \"\"\"Models real-life employees!\"\"\"\n",
    "    def __init__(self, employee_name):\n",
    "        self.employee_name = employee_name\n",
    "    def calculate_wage(self, hours):\n",
    "        self.hours = hours\n",
    "        return hours * 20.00\n",
    "class PartTimeEmployee(Employee):\n",
    "    def calculate_wage(self,hours):\n",
    "        self.hours = hours\n",
    "        return hours * 12.00\n",
    "    def full_time_wage(self,hours):\n",
    "        return super(PartTimeEmployee,self).calculate_wage(hours)\n",
    "milton = PartTimeEmployee(\"Milton\")\n",
    "print (milton.full_time_wage(10))"
   ]
  },
  {
   "cell_type": "code",
   "execution_count": 42,
   "metadata": {},
   "outputs": [
    {
     "name": "stdout",
     "output_type": "stream",
     "text": [
      "3\n",
      "True\n"
     ]
    }
   ],
   "source": [
    "class Triangle(object):\n",
    "    number_of_sides = 3\n",
    "    def __init__(self, angle1, angle2, angle3):\n",
    "        self.angle1 = angle1\n",
    "        self.angle2 = angle2\n",
    "        self.angle3 = angle3\n",
    "    def check_angles(self):\n",
    "        sum_angle = self.angle1 + self.angle2 + self.angle3\n",
    "        if sum_angle == 180: return True\n",
    "        else: return False\n",
    "class Equilateral(Triangle):\n",
    "    angle = 60\n",
    "    def __init__(self):\n",
    "        self.angle1 = self.angle\n",
    "        self.angle2 = self.angle\n",
    "        self.angle3 = self.angle\n",
    "my_triangle = Triangle(90,30,60)\n",
    "print (my_triangle.number_of_sides) # 3 inherited\n",
    "print (my_triangle.check_angles())  # True"
   ]
  },
  {
   "cell_type": "code",
   "execution_count": 43,
   "metadata": {},
   "outputs": [
    {
     "name": "stdout",
     "output_type": "stream",
     "text": [
      "new\n",
      "like new\n",
      "new\n",
      "DeLorean\n",
      "This is a silver DeLorean with 88 MPG.\n",
      "used\n"
     ]
    }
   ],
   "source": [
    "class Car(object):\n",
    "    condition = \"new\"\n",
    "    def __init__(self, model, color, mpg):\n",
    "        self.model = model; self.color = color; self.mpg = mpg\n",
    "    def display_car(self):\n",
    "        return \"This is a %s %s with %s MPG.\" % (self.color, self.model, str(self.mpg))\n",
    "    def drive_car(self): self.condition = \"used\"\n",
    "class ElectricCar(Car):\n",
    "    def __init__(self,model,color,mpg,battery_type):\n",
    "        super(ElectricCar,self).__init__(model,color,mpg)\n",
    "        self.battery_type = battery_type\n",
    "    def drive_car(self): self.condition=\"like new\"\n",
    "my_car = ElectricCar(\"DeLorean\", \"silver\", 88, \"molten salt\")\n",
    "print (my_car.condition) # new \n",
    "my_car.drive_car()     # \n",
    "print (my_car.condition) # like new\n",
    "my_car1 = Car(\"DeLorean\", \"silver\", 88)\n",
    "print (my_car1.condition)      # new\n",
    "print (my_car1.model     )     # DeLorean    \n",
    "print (my_car1.display_car())  # This is a silver DeLorean with 88 MPG.\n",
    "my_car1.drive_car()\n",
    "print (my_car1.condition)      # used"
   ]
  },
  {
   "cell_type": "code",
   "execution_count": 45,
   "metadata": {},
   "outputs": [
    {
     "name": "stdout",
     "output_type": "stream",
     "text": [
      "(1, 2, 3)\n",
      "1\n"
     ]
    }
   ],
   "source": [
    "class Point3D(object):\n",
    "    def __init__(self,x,y,z):\n",
    "        self.x = x\n",
    "        self.y = y\n",
    "        self.z = z\n",
    "    def __repr__(self):\n",
    "        return \"(%d, %d, %d)\" % (self.x, self.y, self.z)\n",
    "my_point = Point3D(1,2,3)\n",
    "print (my_point) # (1, 2, 3)\n",
    "print (my_point.x)"
   ]
  },
  {
   "cell_type": "code",
   "execution_count": null,
   "metadata": {},
   "outputs": [],
   "source": []
  }
 ],
 "metadata": {
  "kernelspec": {
   "display_name": "Python 3",
   "language": "python",
   "name": "python3"
  },
  "language_info": {
   "codemirror_mode": {
    "name": "ipython",
    "version": 3
   },
   "file_extension": ".py",
   "mimetype": "text/x-python",
   "name": "python",
   "nbconvert_exporter": "python",
   "pygments_lexer": "ipython3",
   "version": "3.6.5"
  }
 },
 "nbformat": 4,
 "nbformat_minor": 2
}
